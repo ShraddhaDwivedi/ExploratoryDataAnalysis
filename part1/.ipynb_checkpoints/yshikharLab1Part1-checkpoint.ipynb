{
 "cells": [
  {
   "cell_type": "markdown",
   "metadata": {},
   "source": [
    "<html>\n",
    "    <font color=\"Blue\"> <h1 align=\"center\">  Basic R Commands </h1>\n",
    "        <h2 align=\"center\"> CSE 587 - Lab1 - Part1 </h2>\n",
    "        <h3 align=\"center\"> Yashankit Shikhar: yshikhar </h3>\n",
    "        <h3 align=\"center\"> Shraddha Dwivedi: sdwivedi  </h3>\n",
    "\n",
    "    </font>\n",
    "</html>"
   ]
  },
  {
   "cell_type": "markdown",
   "metadata": {},
   "source": [
    "# Practice Problems"
   ]
  },
  {
   "cell_type": "code",
   "execution_count": 1,
   "metadata": {},
   "outputs": [
    {
     "name": "stdout",
     "output_type": "stream",
     "text": [
      "[1] \"value of foo + bar = 6\"\n",
      "[1] \"Value of list in position 2 is  4\"\n",
      "[1] \"Value of list in position 1 is  2\"\n",
      "[1] \"Value of list in position 0 is  \"\n",
      "[1] \"Value of list in position 5 is  NA\"\n",
      "[1] \"10/2 = 5\"\n",
      "[1] \"10^2 = 100\"\n",
      "[1] \"4*5 = 20\"\n",
      "[1] \"1+6 = 7\"\n",
      "[1] \"2==0 is FALSE\"\n",
      "[1] \"(2+2)==4 TRUE\"\n",
      "[1] \"(T==TRUE) is TRUE\"\n",
      "[1] \"F && T is FALSE\"\n",
      "[1] \"F||TRUE is TRUE\"\n",
      "[1] \"Vector values after being multilpied by 2 = 1\"\n",
      "[2] \"Vector values after being multilpied by 2 = 2\"\n",
      "[3] \"Vector values after being multilpied by 2 = 3\"\n",
      "[4] \"Vector values after being multilpied by 2 = 4\"\n",
      "[5] \"Vector values after being multilpied by 2 = 5\"\n",
      "[6] \"Vector values after being multilpied by 2 = 6\"\n",
      "[7] \"Vector values after being multilpied by 2 = 7\"\n",
      "[8] \"Vector values after being multilpied by 2 = 8\"\n"
     ]
    },
    {
     "data": {
      "text/html": [
       "<ol class=list-inline>\n",
       "\t<li>1</li>\n",
       "\t<li>1.4142135623731</li>\n",
       "\t<li>1.73205080756888</li>\n",
       "\t<li>2</li>\n",
       "\t<li>2.23606797749979</li>\n",
       "\t<li>2.44948974278318</li>\n",
       "\t<li>2.64575131106459</li>\n",
       "\t<li>2.82842712474619</li>\n",
       "</ol>\n"
      ],
      "text/latex": [
       "\\begin{enumerate*}\n",
       "\\item 1\n",
       "\\item 1.4142135623731\n",
       "\\item 1.73205080756888\n",
       "\\item 2\n",
       "\\item 2.23606797749979\n",
       "\\item 2.44948974278318\n",
       "\\item 2.64575131106459\n",
       "\\item 2.82842712474619\n",
       "\\end{enumerate*}\n"
      ],
      "text/markdown": [
       "1. 1\n",
       "2. 1.4142135623731\n",
       "3. 1.73205080756888\n",
       "4. 2\n",
       "5. 2.23606797749979\n",
       "6. 2.44948974278318\n",
       "7. 2.64575131106459\n",
       "8. 2.82842712474619\n",
       "\n",
       "\n"
      ],
      "text/plain": [
       "[1] 1.000000 1.414214 1.732051 2.000000 2.236068 2.449490 2.645751 2.828427"
      ]
     },
     "metadata": {},
     "output_type": "display_data"
    },
    {
     "data": {
      "text/html": [
       "<ol class=list-inline>\n",
       "\t<li>8</li>\n",
       "\t<li>7</li>\n",
       "\t<li>6</li>\n",
       "\t<li>5</li>\n",
       "\t<li>4</li>\n",
       "\t<li>3</li>\n",
       "\t<li>2</li>\n",
       "\t<li>1</li>\n",
       "</ol>\n"
      ],
      "text/latex": [
       "\\begin{enumerate*}\n",
       "\\item 8\n",
       "\\item 7\n",
       "\\item 6\n",
       "\\item 5\n",
       "\\item 4\n",
       "\\item 3\n",
       "\\item 2\n",
       "\\item 1\n",
       "\\end{enumerate*}\n"
      ],
      "text/markdown": [
       "1. 8\n",
       "2. 7\n",
       "3. 6\n",
       "4. 5\n",
       "5. 4\n",
       "6. 3\n",
       "7. 2\n",
       "8. 1\n",
       "\n",
       "\n"
      ],
      "text/plain": [
       "[1] 8 7 6 5 4 3 2 1"
      ]
     },
     "metadata": {},
     "output_type": "display_data"
    },
    {
     "data": {
      "text/html": [
       "<ol class=list-inline>\n",
       "\t<li>1</li>\n",
       "\t<li>2</li>\n",
       "\t<li>3</li>\n",
       "\t<li>4</li>\n",
       "\t<li>5</li>\n",
       "\t<li>6</li>\n",
       "\t<li>7</li>\n",
       "\t<li>8</li>\n",
       "</ol>\n"
      ],
      "text/latex": [
       "\\begin{enumerate*}\n",
       "\\item 1\n",
       "\\item 2\n",
       "\\item 3\n",
       "\\item 4\n",
       "\\item 5\n",
       "\\item 6\n",
       "\\item 7\n",
       "\\item 8\n",
       "\\end{enumerate*}\n"
      ],
      "text/markdown": [
       "1. 1\n",
       "2. 2\n",
       "3. 3\n",
       "4. 4\n",
       "5. 5\n",
       "6. 6\n",
       "7. 7\n",
       "8. 8\n",
       "\n",
       "\n"
      ],
      "text/plain": [
       "[1] 1 2 3 4 5 6 7 8"
      ]
     },
     "metadata": {},
     "output_type": "display_data"
    },
    {
     "data": {
      "text/html": [
       "<dl class=dl-horizontal>\n",
       "\t<dt>1st</dt>\n",
       "\t\t<dd>2</dd>\n",
       "\t<dt>2nd</dt>\n",
       "\t\t<dd>4</dd>\n",
       "\t<dt>3rd</dt>\n",
       "\t\t<dd>6</dd>\n",
       "\t<dt>4th</dt>\n",
       "\t\t<dd>9</dd>\n",
       "</dl>\n"
      ],
      "text/latex": [
       "\\begin{description*}\n",
       "\\item[1st] 2\n",
       "\\item[2nd] 4\n",
       "\\item[3rd] 6\n",
       "\\item[4th] 9\n",
       "\\end{description*}\n"
      ],
      "text/markdown": [
       "1st\n",
       ":   22nd\n",
       ":   43rd\n",
       ":   64th\n",
       ":   9\n",
       "\n"
      ],
      "text/plain": [
       "1st 2nd 3rd 4th \n",
       "  2   4   6   9 "
      ]
     },
     "metadata": {},
     "output_type": "display_data"
    },
    {
     "data": {
      "text/html": [
       "<dl class=dl-horizontal>\n",
       "\t<dt>1st</dt>\n",
       "\t\t<dd>2</dd>\n",
       "\t<dt>2nd</dt>\n",
       "\t\t<dd>20</dd>\n",
       "\t<dt>3rd</dt>\n",
       "\t\t<dd>6</dd>\n",
       "\t<dt>4th</dt>\n",
       "\t\t<dd>9</dd>\n",
       "</dl>\n"
      ],
      "text/latex": [
       "\\begin{description*}\n",
       "\\item[1st] 2\n",
       "\\item[2nd] 20\n",
       "\\item[3rd] 6\n",
       "\\item[4th] 9\n",
       "\\end{description*}\n"
      ],
      "text/markdown": [
       "1st\n",
       ":   22nd\n",
       ":   203rd\n",
       ":   64th\n",
       ":   9\n",
       "\n"
      ],
      "text/plain": [
       "1st 2nd 3rd 4th \n",
       "  2  20   6   9 "
      ]
     },
     "metadata": {},
     "output_type": "display_data"
    },
    {
     "name": "stdout",
     "output_type": "stream",
     "text": [
      "[1] \"9 is odd\"\n",
      "[1] \"Square of 4 is 16\"\n",
      "[1] \"Cube of 1 is 1\"\n",
      "[1] \"Cube of 2 is 8\"\n",
      "[1] \"Cube of 3 is 27\"\n",
      "[1] \"Cube of 4 is 64\"\n",
      "[1] \"Cube of 5 is 125\"\n",
      "[1] \"Cube of 6 is 216\"\n",
      "[1] \"Cube of 7 is 343\"\n",
      "[1] \"Cube of 8 is 512\"\n",
      "[1] \"Cube of 9 is 729\"\n",
      "[1] \"Cube of 10 is 1000\"\n",
      "[1] \"Sum of the three values are 11\"\n",
      "[1] \"Sum of the three values are 12\"\n",
      "  mydataframe.stu_id mydataframe.stu_name\n",
      "1                  1                  Bob\n",
      "2                  2                  Pat\n",
      "3                  3                 Jane\n",
      "4                  4                Peter\n",
      "5                  5                  Han\n"
     ]
    }
   ],
   "source": [
    "#Basic R Commands\n",
    "\n",
    "# 1.2. Declaring variables\n",
    "foo <- 2\n",
    "bar <- 4\n",
    "result <- foo + bar\n",
    "print(paste(\"value of foo + bar =\",result))\n",
    "\n",
    "# 1.3. Creating vectors\n",
    "list <- c(2,4,6,8)\n",
    "print(paste(\"Value of list in position 2 is \",list[2]))\n",
    "print(paste(\"Value of list in position 1 is \",list[1]))\n",
    "print(paste(\"Value of list in position 0 is \",list[0]))\n",
    "print(paste(\"Value of list in position 5 is \",list[5]))\n",
    "\n",
    "# 1.4 basic arithmetic and boolean expressions\n",
    "# division\n",
    "a=10/2\n",
    "print(paste(\"10/2 =\",a))\n",
    "#exponential\n",
    "b=10^2\n",
    "print(paste(\"10^2 =\", b))\n",
    "#Multiplication\n",
    "c=4*5\n",
    "print(paste(\"4*5 =\", c))\n",
    "#Addition\n",
    "d=1+6\n",
    "print(paste(\"1+6 =\",d))\n",
    "#Equality\n",
    "e= (2==0)\n",
    "print(paste(\"2==0 is\", e))\n",
    "\n",
    "#Boolean\n",
    "f=((2+2)==4)\n",
    "print(paste(\"(2+2)==4\", f))\n",
    "i= (T==TRUE)\n",
    "print(paste(\"(T==TRUE) is\", i))\n",
    "g= F && T\n",
    "print(paste(\"F && T is\", g))\n",
    "h= F|| TRUE\n",
    "print(paste(\"F||TRUE is\", h))\n",
    "\n",
    "# 1.5. Creating a vector with several numbers\n",
    "vect= c(1,2,3,4,5,6,7,8)\n",
    "print(paste(\"Vector values after being multilpied by 2 =\", vect))\n",
    "\n",
    "#1.6 calling pre-defined function on vector\n",
    "sqrt(vect)\n",
    "\n",
    "rev(vect)\n",
    "\n",
    "sort(vect)\n",
    "\n",
    "#1.7 giving name to the elements of a vector\n",
    "vect=c(2,4,6,9)\n",
    "names(vect)=c(\"1st\",\"2nd\",\"3rd\",\"4th\")\n",
    "vect\n",
    "\n",
    "vect[\"2nd\"] <-20\n",
    "vect\n",
    "\n",
    "if((vect[\"4th\"]%%2)==0)\n",
    "{\n",
    "  print(paste(vect[\"4th\"],\"is even\"))\n",
    "} else {\n",
    "  print(paste(vect[\"4th\"],\"is odd\"))\n",
    "  }\n",
    "  \n",
    "#1.10\n",
    "\n",
    "# Creating Function\n",
    "#function to print square and return square\n",
    "generateSquares <-function(x){\n",
    "  return(x^2)\n",
    "}\n",
    "a= generateSquares(4)\n",
    "print(paste(\"Square of 4 is\",a))\n",
    "\n",
    "#creating the function that takes arguements\n",
    "func_arguements <- function(a=1,b=2,c=3){\n",
    "  res <- a+(b*c)\n",
    "  print(res)\n",
    "}\n",
    "\n",
    "# Calling by default\n",
    "#generate cubes for first 10 numbers\n",
    "generateCubes <- function(){\n",
    "  for (i in 1:10) {\n",
    "    print(paste(\"Cube of\",i,\"is\",i^3))\n",
    "    \n",
    "  }\n",
    "}\n",
    "generateCubes()\n",
    "\n",
    "# Calling by position\n",
    "sumFunction <- function(a,b,c){\n",
    "  result <- a+b+c\n",
    "  print(paste(\"Sum of the three values are\",result))\n",
    "}\n",
    "sumFunction(2,4,5)\n",
    "\n",
    "\n",
    "# Calling by names\n",
    "sumFunction(a = 4, b = 5, c = 3)\n",
    "\n",
    "\n",
    "#1.12 Creating the data frame\n",
    "mydataframe <- data.frame(\n",
    "  stu_id = c (1:5), \n",
    "  stu_name = c(\"Bob\",\"Pat\",\"Jane\",\"Peter\",\"Han\"),\n",
    "  \n",
    "  stringsAsFactors = FALSE # characters should be converted into factors\n",
    ")\n",
    "\n",
    "# Extract columns\n",
    "res <- data.frame(mydataframe$stu_id,mydataframe$stu_name)\n",
    "print(res)"
   ]
  },
  {
   "cell_type": "markdown",
   "metadata": {},
   "source": [
    "# Problem1"
   ]
  },
  {
   "cell_type": "code",
   "execution_count": 2,
   "metadata": {},
   "outputs": [
    {
     "name": "stdout",
     "output_type": "stream",
     "text": [
      " [1] 12 14 16 29 30 45 19 20 16 19 34 20\n",
      " [1] 34 34 25 27 34 26 42 38 30 28 34 33\n"
     ]
    },
    {
     "data": {
      "text/html": [
       "22.8333333333333"
      ],
      "text/latex": [
       "22.8333333333333"
      ],
      "text/markdown": [
       "22.8333333333333"
      ],
      "text/plain": [
       "[1] 22.83333"
      ]
     },
     "metadata": {},
     "output_type": "display_data"
    },
    {
     "data": {
      "text/html": [
       "32.0833333333333"
      ],
      "text/latex": [
       "32.0833333333333"
      ],
      "text/markdown": [
       "32.0833333333333"
      ],
      "text/plain": [
       "[1] 32.08333"
      ]
     },
     "metadata": {},
     "output_type": "display_data"
    }
   ],
   "source": [
    "sales1<-c(12,14,16,29,30,45,19,20,16, 19, 34, 20)\n",
    "sales2<-rpois(12,34) #Poission distribution\n",
    "print(sales1)\n",
    "print(sales2)\n",
    "#calculating the mean for both the sales\n",
    "mean(sales1)\n",
    "mean(sales2)"
   ]
  },
  {
   "cell_type": "code",
   "execution_count": 3,
   "metadata": {},
   "outputs": [
    {
     "data": {
      "image/png": "[encoded data removed]",
      "text/plain": [
       "Plot with title \"Sales by Month\""
      ]
     },
     "metadata": {},
     "output_type": "display_data"
    }
   ],
   "source": [
    "#setting background color as \"cornsilk\"\n",
    "par(bg=\"cornsilk\")\n",
    "\n",
    "#plotting the graph for sales1 between month vs sales \n",
    "plot(sales1, col=\"blue\", type=\"o\", ylim=c(0,100), xlab=\"Month\", ylab=\"Sales\" )\n",
    "title(main=\"Sales by Month\")\n",
    "\n",
    "#adding line segment for sales2 to the graph already plotted for sales1\n",
    "lines(sales2, type=\"o\", pch=22, lty=2, col=\"red\")\n",
    "grid(nx=NA, ny=NULL)\n",
    "\n",
    "#adding legend to graph\n",
    "legend(\"topright\", inset=.05, c(\"Sales1\",\"Sales2\"), fill=c(\"blue\",\"red\"), horiz=TRUE)\n",
    "\n"
   ]
  },
  {
   "cell_type": "markdown",
   "metadata": {},
   "source": [
    "# Problem 2"
   ]
  },
  {
   "cell_type": "code",
   "execution_count": 4,
   "metadata": {
    "scrolled": true
   },
   "outputs": [
    {
     "data": {
      "text/html": [
       "<table>\n",
       "<thead><tr><th scope=col>Sales1</th><th scope=col>Sales2</th></tr></thead>\n",
       "<tbody>\n",
       "\t<tr><td>34</td><td>45</td></tr>\n",
       "\t<tr><td>23</td><td>23</td></tr>\n",
       "\t<tr><td>12</td><td>56</td></tr>\n",
       "\t<tr><td>29</td><td>34</td></tr>\n",
       "\t<tr><td>34</td><td>45</td></tr>\n",
       "\t<tr><td>34</td><td>56</td></tr>\n",
       "\t<tr><td>12</td><td>89</td></tr>\n",
       "\t<tr><td>80</td><td>36</td></tr>\n",
       "\t<tr><td>80</td><td>44</td></tr>\n",
       "\t<tr><td>56</td><td>66</td></tr>\n",
       "\t<tr><td>55</td><td>60</td></tr>\n",
       "\t<tr><td>45</td><td>23</td></tr>\n",
       "</tbody>\n",
       "</table>\n"
      ],
      "text/latex": [
       "\\begin{tabular}{r|ll}\n",
       " Sales1 & Sales2\\\\\n",
       "\\hline\n",
       "\t 34 & 45\\\\\n",
       "\t 23 & 23\\\\\n",
       "\t 12 & 56\\\\\n",
       "\t 29 & 34\\\\\n",
       "\t 34 & 45\\\\\n",
       "\t 34 & 56\\\\\n",
       "\t 12 & 89\\\\\n",
       "\t 80 & 36\\\\\n",
       "\t 80 & 44\\\\\n",
       "\t 56 & 66\\\\\n",
       "\t 55 & 60\\\\\n",
       "\t 45 & 23\\\\\n",
       "\\end{tabular}\n"
      ],
      "text/markdown": [
       "\n",
       "Sales1 | Sales2 | \n",
       "|---|---|---|---|---|---|---|---|---|---|---|---|\n",
       "| 34 | 45 | \n",
       "| 23 | 23 | \n",
       "| 12 | 56 | \n",
       "| 29 | 34 | \n",
       "| 34 | 45 | \n",
       "| 34 | 56 | \n",
       "| 12 | 89 | \n",
       "| 80 | 36 | \n",
       "| 80 | 44 | \n",
       "| 56 | 66 | \n",
       "| 55 | 60 | \n",
       "| 45 | 23 | \n",
       "\n",
       "\n"
      ],
      "text/plain": [
       "   Sales1 Sales2\n",
       "1  34     45    \n",
       "2  23     23    \n",
       "3  12     56    \n",
       "4  29     34    \n",
       "5  34     45    \n",
       "6  34     56    \n",
       "7  12     89    \n",
       "8  80     36    \n",
       "9  80     44    \n",
       "10 56     66    \n",
       "11 55     60    \n",
       "12 45     23    "
      ]
     },
     "metadata": {},
     "output_type": "display_data"
    }
   ],
   "source": [
    "#reading the data from salesdata.txt and creating a dataframes from it\n",
    "sales<-read.table('salesdata.txt', header=T)\n",
    "\n",
    "# to verify that data has been read\n",
    "sales"
   ]
  },
  {
   "cell_type": "code",
   "execution_count": 5,
   "metadata": {},
   "outputs": [
    {
     "data": {
      "image/png": "[encoded data removed]",
      "text/plain": [
       "Plot with title \"Sales Data\""
      ]
     },
     "metadata": {},
     "output_type": "display_data"
    }
   ],
   "source": [
    "#Creating a bar plot for sales data extracted from salesdata.txt\n",
    "barplot(as.matrix(sales), main=\"Sales Data\", ylab= \"Total\",beside=T, col=rainbow(5))\n"
   ]
  },
  {
   "cell_type": "markdown",
   "metadata": {},
   "source": [
    "# Problem 3"
   ]
  },
  {
   "cell_type": "code",
   "execution_count": 6,
   "metadata": {},
   "outputs": [
    {
     "data": {
      "image/png": "[encoded data removed]",
      "text/plain": [
       "plot without title"
      ]
     },
     "metadata": {},
     "output_type": "display_data"
    }
   ],
   "source": [
    "#creating box plot\n",
    "fn<-boxplot(sales,col=c(\"orange\",\"green\"))$stats\n",
    "#showing the median values for sales1 and sales2 respectively in box plot\n",
    "text(1.45, fn[3,2], paste(\"Median =\", fn[3,2]), adj=0, cex=.7)\n",
    "text(0.45, fn[3,1],paste(\"Median =\", fn[3,1]), adj=0, cex=.7)\n",
    "grid(nx=NA, ny=NULL)\n"
   ]
  },
  {
   "cell_type": "markdown",
   "metadata": {},
   "source": [
    "# Problem 4"
   ]
  },
  {
   "cell_type": "code",
   "execution_count": 7,
   "metadata": {
    "scrolled": true
   },
   "outputs": [],
   "source": [
    "#reading the csv files of Facebook and Apple\n",
    "fb1<-read.csv('FB.csv')\n",
    "aapl1<-read.csv('AAPL.csv')\n"
   ]
  },
  {
   "cell_type": "code",
   "execution_count": 8,
   "metadata": {},
   "outputs": [
    {
     "data": {
      "image/png": "[encoded data removed]",
      "text/plain": [
       "plot without title"
      ]
     },
     "metadata": {},
     "output_type": "display_data"
    }
   ],
   "source": [
    "\n",
    "plot(aapl1$Adj.Close, col=\"blue\", type=\"o\", ylim = c(150,200), xlab=\"Days\", ylab=\"Price\" )\n",
    "lines(fb1$Adj.Close, type=\"o\", pch=22, lty=2, col=\"red\")\n",
    "legend(\"topright\", inset=.07, c(\"Apple\",\"Facebook\"), fill=c(\"blue\",\"red\"), horiz=TRUE)\n",
    "\n"
   ]
  },
  {
   "cell_type": "code",
   "execution_count": 9,
   "metadata": {},
   "outputs": [
    {
     "data": {
      "image/png": "[encoded data removed]",
      "text/plain": [
       "Plot with title \"Histogram of aapl1$Adj.Close\""
      ]
     },
     "metadata": {},
     "output_type": "display_data"
    }
   ],
   "source": [
    "#plotting histogram for Apple dataset\n",
    "hist(aapl1$Adj.Close, col=rainbow(8))\n"
   ]
  },
  {
   "cell_type": "markdown",
   "metadata": {},
   "source": [
    "# Problem 7"
   ]
  },
  {
   "cell_type": "code",
   "execution_count": 10,
   "metadata": {
    "scrolled": false
   },
   "outputs": [
    {
     "data": {
      "text/html": [
       "<table>\n",
       "<thead><tr><th></th><th scope=col>mpg</th><th scope=col>cyl</th><th scope=col>disp</th><th scope=col>hp</th><th scope=col>drat</th><th scope=col>wt</th><th scope=col>qsec</th><th scope=col>vs</th><th scope=col>am</th><th scope=col>gear</th><th scope=col>carb</th></tr></thead>\n",
       "<tbody>\n",
       "\t<tr><th scope=row>Mazda RX4</th><td>21.0 </td><td>6    </td><td>160  </td><td>110  </td><td>3.90 </td><td>2.620</td><td>16.46</td><td>0    </td><td>1    </td><td>4    </td><td>4    </td></tr>\n",
       "\t<tr><th scope=row>Mazda RX4 Wag</th><td>21.0 </td><td>6    </td><td>160  </td><td>110  </td><td>3.90 </td><td>2.875</td><td>17.02</td><td>0    </td><td>1    </td><td>4    </td><td>4    </td></tr>\n",
       "\t<tr><th scope=row>Datsun 710</th><td>22.8 </td><td>4    </td><td>108  </td><td> 93  </td><td>3.85 </td><td>2.320</td><td>18.61</td><td>1    </td><td>1    </td><td>4    </td><td>1    </td></tr>\n",
       "\t<tr><th scope=row>Hornet 4 Drive</th><td>21.4 </td><td>6    </td><td>258  </td><td>110  </td><td>3.08 </td><td>3.215</td><td>19.44</td><td>1    </td><td>0    </td><td>3    </td><td>1    </td></tr>\n",
       "\t<tr><th scope=row>Hornet Sportabout</th><td>18.7 </td><td>8    </td><td>360  </td><td>175  </td><td>3.15 </td><td>3.440</td><td>17.02</td><td>0    </td><td>0    </td><td>3    </td><td>2    </td></tr>\n",
       "\t<tr><th scope=row>Valiant</th><td>18.1 </td><td>6    </td><td>225  </td><td>105  </td><td>2.76 </td><td>3.460</td><td>20.22</td><td>1    </td><td>0    </td><td>3    </td><td>1    </td></tr>\n",
       "</tbody>\n",
       "</table>\n"
      ],
      "text/latex": [
       "\\begin{tabular}{r|lllllllllll}\n",
       "  & mpg & cyl & disp & hp & drat & wt & qsec & vs & am & gear & carb\\\\\n",
       "\\hline\n",
       "\tMazda RX4 & 21.0  & 6     & 160   & 110   & 3.90  & 2.620 & 16.46 & 0     & 1     & 4     & 4    \\\\\n",
       "\tMazda RX4 Wag & 21.0  & 6     & 160   & 110   & 3.90  & 2.875 & 17.02 & 0     & 1     & 4     & 4    \\\\\n",
       "\tDatsun 710 & 22.8  & 4     & 108   &  93   & 3.85  & 2.320 & 18.61 & 1     & 1     & 4     & 1    \\\\\n",
       "\tHornet 4 Drive & 21.4  & 6     & 258   & 110   & 3.08  & 3.215 & 19.44 & 1     & 0     & 3     & 1    \\\\\n",
       "\tHornet Sportabout & 18.7  & 8     & 360   & 175   & 3.15  & 3.440 & 17.02 & 0     & 0     & 3     & 2    \\\\\n",
       "\tValiant & 18.1  & 6     & 225   & 105   & 2.76  & 3.460 & 20.22 & 1     & 0     & 3     & 1    \\\\\n",
       "\\end{tabular}\n"
      ],
      "text/markdown": [
       "\n",
       "| <!--/--> | mpg | cyl | disp | hp | drat | wt | qsec | vs | am | gear | carb | \n",
       "|---|---|---|---|---|---|\n",
       "| Mazda RX4 | 21.0  | 6     | 160   | 110   | 3.90  | 2.620 | 16.46 | 0     | 1     | 4     | 4     | \n",
       "| Mazda RX4 Wag | 21.0  | 6     | 160   | 110   | 3.90  | 2.875 | 17.02 | 0     | 1     | 4     | 4     | \n",
       "| Datsun 710 | 22.8  | 4     | 108   |  93   | 3.85  | 2.320 | 18.61 | 1     | 1     | 4     | 1     | \n",
       "| Hornet 4 Drive | 21.4  | 6     | 258   | 110   | 3.08  | 3.215 | 19.44 | 1     | 0     | 3     | 1     | \n",
       "| Hornet Sportabout | 18.7  | 8     | 360   | 175   | 3.15  | 3.440 | 17.02 | 0     | 0     | 3     | 2     | \n",
       "| Valiant | 18.1  | 6     | 225   | 105   | 2.76  | 3.460 | 20.22 | 1     | 0     | 3     | 1     | \n",
       "\n",
       "\n"
      ],
      "text/plain": [
       "                  mpg  cyl disp hp  drat wt    qsec  vs am gear carb\n",
       "Mazda RX4         21.0 6   160  110 3.90 2.620 16.46 0  1  4    4   \n",
       "Mazda RX4 Wag     21.0 6   160  110 3.90 2.875 17.02 0  1  4    4   \n",
       "Datsun 710        22.8 4   108   93 3.85 2.320 18.61 1  1  4    1   \n",
       "Hornet 4 Drive    21.4 6   258  110 3.08 3.215 19.44 1  0  3    1   \n",
       "Hornet Sportabout 18.7 8   360  175 3.15 3.440 17.02 0  0  3    2   \n",
       "Valiant           18.1 6   225  105 2.76 3.460 20.22 1  0  3    1   "
      ]
     },
     "metadata": {},
     "output_type": "display_data"
    },
    {
     "data": {
      "image/png": "[encoded data removed]",
      "text/plain": [
       "plot without title"
      ]
     },
     "metadata": {},
     "output_type": "display_data"
    },
    {
     "data": {
      "image/png": "[encoded data removed]",
      "text/plain": [
       "plot without title"
      ]
     },
     "metadata": {},
     "output_type": "display_data"
    },
    {
     "data": {
      "image/png": "[encoded data removed]",
      "text/plain": [
       "plot without title"
      ]
     },
     "metadata": {},
     "output_type": "display_data"
    }
   ],
   "source": [
    "\n",
    "attach(mtcars)\n",
    "#returning the first part of mtcars\n",
    "head(mtcars)\n",
    "plot(mtcars[c(1,3,4,5,6)], main=\"MTCARS Data\")\n",
    "plot(mtcars[c(1,3,4,6)], main=\"MTCARS Data\")\n",
    "plot(mtcars[c(1,3,4,6)], col=rainbow(5),main=\"MTCARS Data\")\n"
   ]
  },
  {
   "cell_type": "markdown",
   "metadata": {},
   "source": [
    "# Problem 8"
   ]
  },
  {
   "cell_type": "code",
   "execution_count": 11,
   "metadata": {},
   "outputs": [
    {
     "name": "stderr",
     "output_type": "stream",
     "text": [
      "\n",
      "Attaching package: 'ggplot2'\n",
      "\n",
      "The following object is masked from 'mtcars':\n",
      "\n",
      "    mpg\n",
      "\n"
     ]
    },
    {
     "data": {},
     "metadata": {},
     "output_type": "display_data"
    },
    {
     "data": {
      "image/png": "[encoded data removed]",
      "text/plain": [
       "plot without title"
      ]
     },
     "metadata": {},
     "output_type": "display_data"
    }
   ],
   "source": [
    "library(ggplot2)\n",
    "#plotting the graph\n",
    "ggplot(mtcars, aes(x=mpg, y=disp)) + geom_point()\n"
   ]
  },
  {
   "cell_type": "markdown",
   "metadata": {},
   "source": [
    "# Problem 6"
   ]
  },
  {
   "cell_type": "code",
   "execution_count": 12,
   "metadata": {},
   "outputs": [
    {
     "ename": "ERROR",
     "evalue": "Error in library(\"ggmap\"): there is no package called 'ggmap'\n",
     "output_type": "error",
     "traceback": [
      "Error in library(\"ggmap\"): there is no package called 'ggmap'\nTraceback:\n",
      "1. library(\"ggmap\")",
      "2. stop(txt, domain = NA)"
     ]
    }
   ],
   "source": [
    "library(\"ggmap\")\n",
    "library(\"maptools\")\n",
    "library(maps)\n",
    "register_google(key = \"\") \n",
    "visited <- c(\"SFO\", \"Chennai\", \"London\", \"Melbourne\", \"Lima,Peru\", \"Johannesbury,SA\")\n",
    "ll.visited <- geocode(visited)\n",
    "visit.x <- ll.visited$lon\n",
    "visit.y <- ll.visited$lat\n",
    "map(\"world\", fill=TRUE, col=\"white\", bg=\"lightblue\", ylim=c(-60, 90), mar=c(0,0,0,0))\n",
    "points(visit.x,visit.y, col=\"red\", pch=36)\n"
   ]
  },
  {
   "cell_type": "code",
   "execution_count": null,
   "metadata": {},
   "outputs": [],
   "source": [
    "library(\"ggmap\")\n",
    "library(\"maptools\")\n",
    "library(maps)\n",
    "visited <- c(\"SFO\", \"New York\", \"Buffalo\", \"Dallas, TX\")\n",
    "ll.visited <- geocode(visited)\n",
    "visit.x <- ll.visited$lon\n",
    "visit.y <- ll.visited$lat\n",
    "map(\"state\", fill=TRUE, col=rainbow(50), bg=\"lightblue\", mar=c(0,0,0,0))\n",
    "points(visit.x,visit.y, col=\"yellow\", pch=36)\n"
   ]
  },
  {
   "cell_type": "markdown",
   "metadata": {},
   "source": [
    "# Problem 5"
   ]
  },
  {
   "cell_type": "code",
   "execution_count": null,
   "metadata": {},
   "outputs": [],
   "source": [
    "attach(mpg)\n",
    "head(mpg)\n",
    "summary(mpg)\n",
    "#after analysis remove the data from the memory\n",
    "detach(mpg)\n",
    "\n",
    "library (help=datasets)\n",
    "library(datasets)\n",
    "head(uspop)\n",
    "\n",
    "plot(uspop)\n",
    "\n"
   ]
  },
  {
   "cell_type": "code",
   "execution_count": null,
   "metadata": {},
   "outputs": [],
   "source": []
  }
 ],
 "metadata": {
  "kernelspec": {
   "display_name": "R",
   "language": "R",
   "name": "ir"
  },
  "language_info": {
   "codemirror_mode": "r",
   "file_extension": ".r",
   "mimetype": "text/x-r-source",
   "name": "R",
   "pygments_lexer": "r",
   "version": "3.4.3"
  }
 },
 "nbformat": 4,
 "nbformat_minor": 2
}
